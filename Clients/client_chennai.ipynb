{
 "cells": [
  {
   "cell_type": "code",
   "execution_count": 1,
   "id": "2fea84f3",
   "metadata": {},
   "outputs": [],
   "source": [
    "import flwr as fl\n",
    "import pandas as pd\n",
    "import numpy as np\n",
    "from sklearn.ensemble import RandomForestRegressor\n",
    "from sklearn.metrics import mean_squared_error\n",
    "from sklearn.model_selection import train_test_split\n",
    "import warnings\n",
    "warnings.filterwarnings(\"ignore\")"
   ]
  },
  {
   "cell_type": "code",
   "execution_count": 5,
   "id": "04825b53",
   "metadata": {},
   "outputs": [],
   "source": [
    "# ---- Step 1: Load Chennai Store Data ----\n",
    "def load_chennai_data():\n",
    "    df = pd.read_csv(r\"C:\\Users\\madha\\Downloads\\Walmart\\Data\\chennai_data.csv\", encoding='latin1')  # Adjust path if needed\n",
    "    X = df.drop(\"demand\", axis=1)\n",
    "    y = df[\"demand\"]\n",
    "    return train_test_split(X, y, test_size=0.2, random_state=42)"
   ]
  },
  {
   "cell_type": "code",
   "execution_count": 6,
   "id": "2619271f",
   "metadata": {},
   "outputs": [],
   "source": [
    "# ---- Step 2: Define Federated Client for Chennai ----\n",
    "class ChennaiClient(fl.client.NumPyClient):\n",
    "    def __init__(self):\n",
    "        self.X_train, self.X_test, self.y_train, self.y_test = load_chennai_data()\n",
    "        self.model = RandomForestRegressor(n_estimators=10, random_state=42)\n",
    "        self.model.fit(self.X_train, self.y_train)\n",
    "\n",
    "    def get_parameters(self, config=None):\n",
    "        return []\n",
    "\n",
    "    def fit(self, parameters, config=None):\n",
    "        self.model.fit(self.X_train, self.y_train)\n",
    "        return self.get_parameters(), len(self.X_train), {}\n",
    "\n",
    "    def evaluate(self, parameters, config=None):\n",
    "        preds = self.model.predict(self.X_test)\n",
    "        mse = mean_squared_error(self.y_test, preds)\n",
    "        print(f\"🔍 Chennai store MSE: {mse:.2f}\")\n",
    "        return float(mse), len(self.X_test), {}"
   ]
  },
  {
   "cell_type": "code",
   "execution_count": 10,
   "id": "8cd3bb6f",
   "metadata": {},
   "outputs": [
    {
     "name": "stderr",
     "output_type": "stream",
     "text": [
      "\u001b[93mWARNING \u001b[0m:   DEPRECATED FEATURE: flwr.client.start_client() is deprecated.\n",
      "\tInstead, use the `flower-supernode` CLI command to start a SuperNode as shown below:\n",
      "\n",
      "\t\t$ flower-supernode --insecure --superlink='<IP>:<PORT>'\n",
      "\n",
      "\tTo view all available options, run:\n",
      "\n",
      "\t\t$ flower-supernode --help\n",
      "\n",
      "\tUsing `start_client()` is deprecated.\n",
      "\n",
      "            This is a deprecated feature. It will be removed\n",
      "            entirely in future versions of Flower.\n",
      "        \n",
      "\u001b[92mINFO \u001b[0m:      \n",
      "\u001b[92mINFO \u001b[0m:      Received: train message 3ad6cca4-ab84-494b-a885-3f49fb67bb77\n",
      "\u001b[92mINFO \u001b[0m:      Sent reply\n",
      "\u001b[92mINFO \u001b[0m:      \n",
      "\u001b[92mINFO \u001b[0m:      Received: evaluate message 67ec7763-047e-48b0-a88f-a837d621bf3c\n",
      "\u001b[92mINFO \u001b[0m:      Sent reply\n",
      "\u001b[92mINFO \u001b[0m:      \n",
      "\u001b[92mINFO \u001b[0m:      Received: train message aa94abe9-9ed2-4623-986c-c3e473f01072\n",
      "\u001b[92mINFO \u001b[0m:      Sent reply\n",
      "\u001b[92mINFO \u001b[0m:      \n",
      "\u001b[92mINFO \u001b[0m:      Received: evaluate message c6a8cae8-3925-4a23-a3b2-6938ea2b0e66\n",
      "\u001b[92mINFO \u001b[0m:      Sent reply\n",
      "\u001b[92mINFO \u001b[0m:      \n",
      "\u001b[92mINFO \u001b[0m:      Received: train message 2d7cd6f3-bd21-454d-8fc6-d1a272a089d0\n",
      "\u001b[92mINFO \u001b[0m:      Sent reply\n",
      "\u001b[92mINFO \u001b[0m:      \n",
      "\u001b[92mINFO \u001b[0m:      Received: evaluate message 20ecb5a9-f7d0-46a5-aa6c-9b5df6fc0380\n",
      "\u001b[92mINFO \u001b[0m:      Sent reply\n"
     ]
    },
    {
     "name": "stdout",
     "output_type": "stream",
     "text": [
      "🚀 Chennai Client Started (Edge AI + FL)\n",
      "🔍 Chennai store MSE: 140.62\n",
      "🔍 Chennai store MSE: 140.62\n",
      "🔍 Chennai store MSE: 140.62\n"
     ]
    },
    {
     "name": "stderr",
     "output_type": "stream",
     "text": [
      "\u001b[92mINFO \u001b[0m:      \n",
      "\u001b[92mINFO \u001b[0m:      Received: train message ee027d5a-6bc6-415c-8715-1e5107eadfe1\n",
      "\u001b[92mINFO \u001b[0m:      Sent reply\n",
      "\u001b[92mINFO \u001b[0m:      \n",
      "\u001b[92mINFO \u001b[0m:      Received: evaluate message 662ef44f-73b5-4e92-9f8c-95ae28d576ff\n",
      "\u001b[92mINFO \u001b[0m:      Sent reply\n",
      "\u001b[92mINFO \u001b[0m:      \n",
      "\u001b[92mINFO \u001b[0m:      Received: train message 591232c1-8095-4f41-a954-ae5db87851e3\n",
      "\u001b[92mINFO \u001b[0m:      Sent reply\n",
      "\u001b[92mINFO \u001b[0m:      \n",
      "\u001b[92mINFO \u001b[0m:      Received: evaluate message e8666496-fc6a-4f8a-8e25-d3aff52cb155\n",
      "\u001b[92mINFO \u001b[0m:      Sent reply\n",
      "\u001b[92mINFO \u001b[0m:      \n",
      "\u001b[92mINFO \u001b[0m:      Received: train message c540d6a5-6f27-48e4-85f6-eb1e3326e6af\n",
      "\u001b[92mINFO \u001b[0m:      Sent reply\n",
      "\u001b[92mINFO \u001b[0m:      \n",
      "\u001b[92mINFO \u001b[0m:      Received: evaluate message d50f478d-655d-4898-b5e0-5255fbd3be7f\n",
      "\u001b[92mINFO \u001b[0m:      Sent reply\n",
      "\u001b[92mINFO \u001b[0m:      \n",
      "\u001b[92mINFO \u001b[0m:      Received: train message f8d3fc17-203a-496f-ae70-00c1bc2ad99d\n",
      "\u001b[92mINFO \u001b[0m:      Sent reply\n",
      "\u001b[92mINFO \u001b[0m:      \n",
      "\u001b[92mINFO \u001b[0m:      Received: evaluate message 55c485fd-670d-4332-a762-925a3f01554d\n",
      "\u001b[92mINFO \u001b[0m:      Sent reply\n",
      "\u001b[92mINFO \u001b[0m:      \n",
      "\u001b[92mINFO \u001b[0m:      Received: train message b0f7b78b-d7ef-4a41-8f7e-6616857fbaf3\n",
      "\u001b[92mINFO \u001b[0m:      Sent reply\n",
      "\u001b[92mINFO \u001b[0m:      \n",
      "\u001b[92mINFO \u001b[0m:      Received: evaluate message 8fefeb22-3e48-4bfd-98a9-8666c84f98b3\n",
      "\u001b[92mINFO \u001b[0m:      Sent reply\n",
      "\u001b[92mINFO \u001b[0m:      \n",
      "\u001b[92mINFO \u001b[0m:      Received: train message e64bc304-ce72-4982-8a65-974e95059712\n",
      "\u001b[92mINFO \u001b[0m:      Sent reply\n",
      "\u001b[92mINFO \u001b[0m:      \n",
      "\u001b[92mINFO \u001b[0m:      Received: evaluate message 4a80a86c-474b-4d4f-a957-28e3800a79a7\n",
      "\u001b[92mINFO \u001b[0m:      Sent reply\n",
      "\u001b[92mINFO \u001b[0m:      \n",
      "\u001b[92mINFO \u001b[0m:      Received: train message 8cdd6578-3f1a-4d5f-95ef-d34be46121dc\n",
      "\u001b[92mINFO \u001b[0m:      Sent reply\n",
      "\u001b[92mINFO \u001b[0m:      \n",
      "\u001b[92mINFO \u001b[0m:      Received: evaluate message e613a3d5-bef3-43ce-a8c4-fe3ed4cf856b\n",
      "\u001b[92mINFO \u001b[0m:      Sent reply\n",
      "\u001b[92mINFO \u001b[0m:      \n"
     ]
    },
    {
     "name": "stdout",
     "output_type": "stream",
     "text": [
      "🔍 Chennai store MSE: 140.62\n",
      "🔍 Chennai store MSE: 140.62\n",
      "🔍 Chennai store MSE: 140.62\n",
      "🔍 Chennai store MSE: 140.62\n",
      "🔍 Chennai store MSE: 140.62\n",
      "🔍 Chennai store MSE: 140.62\n",
      "🔍 Chennai store MSE: 140.62\n"
     ]
    },
    {
     "name": "stderr",
     "output_type": "stream",
     "text": [
      "\u001b[92mINFO \u001b[0m:      Received: reconnect message bd0976f1-331c-42f2-a45c-1533d7955eb1\n",
      "\u001b[92mINFO \u001b[0m:      Disconnect and shut down\n"
     ]
    }
   ],
   "source": [
    "# ---- Step 3: Start Client ----\n",
    "if __name__ == \"__main__\":\n",
    "    print(\"🚀 Chennai Client Started (Edge AI + FL)\")\n",
    "    fl.client.start_client(\n",
    "        server_address=\"127.0.0.1:8080\",\n",
    "        client=ChennaiClient().to_client()\n",
    "    )"
   ]
  },
  {
   "cell_type": "code",
   "execution_count": null,
   "id": "effa2eb7",
   "metadata": {},
   "outputs": [],
   "source": []
  }
 ],
 "metadata": {
  "kernelspec": {
   "display_name": ".venv",
   "language": "python",
   "name": "python3"
  },
  "language_info": {
   "codemirror_mode": {
    "name": "ipython",
    "version": 3
   },
   "file_extension": ".py",
   "mimetype": "text/x-python",
   "name": "python",
   "nbconvert_exporter": "python",
   "pygments_lexer": "ipython3",
   "version": "3.11.8"
  }
 },
 "nbformat": 4,
 "nbformat_minor": 5
}
