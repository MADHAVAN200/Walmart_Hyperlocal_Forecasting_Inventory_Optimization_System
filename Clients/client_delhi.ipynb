{
 "cells": [
  {
   "cell_type": "code",
   "execution_count": 1,
   "id": "d96fa685",
   "metadata": {},
   "outputs": [],
   "source": [
    "import flwr as fl\n",
    "import pandas as pd\n",
    "import numpy as np\n",
    "from sklearn.ensemble import RandomForestRegressor\n",
    "from sklearn.metrics import mean_squared_error\n",
    "from sklearn.model_selection import train_test_split\n",
    "import warnings\n",
    "warnings.filterwarnings(\"ignore\")"
   ]
  },
  {
   "cell_type": "code",
   "execution_count": 3,
   "id": "4b169429",
   "metadata": {},
   "outputs": [],
   "source": [
    "# ---- Step 1: Load Delhi Store Data ----\n",
    "def load_delhi_data():\n",
    "    df = pd.read_csv(r\"C:\\Users\\madha\\Downloads\\Walmart\\Data\\delhi_data.csv\")  # Change path if needed\n",
    "    X = df.drop(\"demand\", axis=1)\n",
    "    y = df[\"demand\"]\n",
    "    return train_test_split(X, y, test_size=0.2, random_state=42)"
   ]
  },
  {
   "cell_type": "code",
   "execution_count": 4,
   "id": "194e3a3a",
   "metadata": {},
   "outputs": [],
   "source": [
    "# ---- Step 2: Define Federated Client for Delhi ----\n",
    "class DelhiClient(fl.client.NumPyClient):\n",
    "    def __init__(self):\n",
    "        self.X_train, self.X_test, self.y_train, self.y_test = load_delhi_data()\n",
    "        self.model = RandomForestRegressor(n_estimators=10, random_state=42)\n",
    "        self.model.fit(self.X_train, self.y_train)\n",
    "\n",
    "    def get_parameters(self, config=None):\n",
    "        return []\n",
    "\n",
    "    def fit(self, parameters, config=None):\n",
    "        self.model.fit(self.X_train, self.y_train)\n",
    "        return self.get_parameters(), len(self.X_train), {}\n",
    "\n",
    "    def evaluate(self, parameters, config=None):\n",
    "        preds = self.model.predict(self.X_test)\n",
    "        mse = mean_squared_error(self.y_test, preds)\n",
    "        print(f\"🔍 Delhi store MSE: {mse:.2f}\")\n",
    "        return float(mse), len(self.X_test), {}"
   ]
  },
  {
   "cell_type": "code",
   "execution_count": 8,
   "id": "3c9af58a",
   "metadata": {},
   "outputs": [
    {
     "name": "stderr",
     "output_type": "stream",
     "text": [
      "\u001b[93mWARNING \u001b[0m:   DEPRECATED FEATURE: flwr.client.start_client() is deprecated.\n",
      "\tInstead, use the `flower-supernode` CLI command to start a SuperNode as shown below:\n",
      "\n",
      "\t\t$ flower-supernode --insecure --superlink='<IP>:<PORT>'\n",
      "\n",
      "\tTo view all available options, run:\n",
      "\n",
      "\t\t$ flower-supernode --help\n",
      "\n",
      "\tUsing `start_client()` is deprecated.\n",
      "\n",
      "            This is a deprecated feature. It will be removed\n",
      "            entirely in future versions of Flower.\n",
      "        \n"
     ]
    },
    {
     "name": "stdout",
     "output_type": "stream",
     "text": [
      "🚀 Delhi Client Started (Edge AI + FL)\n"
     ]
    },
    {
     "name": "stderr",
     "output_type": "stream",
     "text": [
      "\u001b[92mINFO \u001b[0m:      \n",
      "\u001b[92mINFO \u001b[0m:      Received: train message 437834d5-1390-4151-8ba8-489e2c088663\n",
      "\u001b[92mINFO \u001b[0m:      Sent reply\n",
      "\u001b[92mINFO \u001b[0m:      \n",
      "\u001b[92mINFO \u001b[0m:      Received: evaluate message a78a4084-8540-48e4-8623-afecbf7f53b5\n",
      "\u001b[92mINFO \u001b[0m:      Sent reply\n",
      "\u001b[92mINFO \u001b[0m:      \n",
      "\u001b[92mINFO \u001b[0m:      Received: train message 7a58c609-11f4-4d17-a6ed-0086eb3ab3ea\n",
      "\u001b[92mINFO \u001b[0m:      Sent reply\n",
      "\u001b[92mINFO \u001b[0m:      \n",
      "\u001b[92mINFO \u001b[0m:      Received: evaluate message 6dc94167-f849-4928-9580-b9f6f8cd75e8\n",
      "\u001b[92mINFO \u001b[0m:      Sent reply\n",
      "\u001b[92mINFO \u001b[0m:      \n",
      "\u001b[92mINFO \u001b[0m:      Received: train message 37a1baf3-f0b4-4eef-8679-91cda6bee223\n",
      "\u001b[92mINFO \u001b[0m:      Sent reply\n",
      "\u001b[92mINFO \u001b[0m:      \n",
      "\u001b[92mINFO \u001b[0m:      Received: evaluate message cc4bf2fe-ae5a-43fd-bf0c-d4616790f9df\n",
      "\u001b[92mINFO \u001b[0m:      Sent reply\n",
      "\u001b[92mINFO \u001b[0m:      \n",
      "\u001b[92mINFO \u001b[0m:      Received: train message 90207d6c-3aea-4c6a-b944-1cd8fe435196\n",
      "\u001b[92mINFO \u001b[0m:      Sent reply\n",
      "\u001b[92mINFO \u001b[0m:      \n",
      "\u001b[92mINFO \u001b[0m:      Received: evaluate message bacd83e4-1f6f-430b-89c0-1d36d246dbc1\n",
      "\u001b[92mINFO \u001b[0m:      Sent reply\n",
      "\u001b[92mINFO \u001b[0m:      \n",
      "\u001b[92mINFO \u001b[0m:      Received: train message a15d0e90-36b2-4b04-b7e3-0bf33a16d6a6\n",
      "\u001b[92mINFO \u001b[0m:      Sent reply\n",
      "\u001b[92mINFO \u001b[0m:      \n",
      "\u001b[92mINFO \u001b[0m:      Received: evaluate message 9a5af69a-7c2b-45fb-b5ab-3b0b163f7b97\n",
      "\u001b[92mINFO \u001b[0m:      Sent reply\n",
      "\u001b[92mINFO \u001b[0m:      \n",
      "\u001b[92mINFO \u001b[0m:      Received: train message 1c868b82-411b-441a-aec5-c8d58e9ac6c3\n",
      "\u001b[92mINFO \u001b[0m:      Sent reply\n",
      "\u001b[92mINFO \u001b[0m:      \n",
      "\u001b[92mINFO \u001b[0m:      Received: evaluate message b2345c0f-24f1-4304-a94f-37b90ec8d9c6\n",
      "\u001b[92mINFO \u001b[0m:      Sent reply\n",
      "\u001b[92mINFO \u001b[0m:      \n",
      "\u001b[92mINFO \u001b[0m:      Received: train message e7844dc9-d53c-47fd-8694-24033870f6d6\n",
      "\u001b[92mINFO \u001b[0m:      Sent reply\n",
      "\u001b[92mINFO \u001b[0m:      \n",
      "\u001b[92mINFO \u001b[0m:      Received: evaluate message 8d82b4f2-8dad-4374-bf3b-68c25f1f0e71\n",
      "\u001b[92mINFO \u001b[0m:      Sent reply\n",
      "\u001b[92mINFO \u001b[0m:      \n",
      "\u001b[92mINFO \u001b[0m:      Received: train message 13905c61-908a-4dc4-b7b0-b757622309e9\n",
      "\u001b[92mINFO \u001b[0m:      Sent reply\n"
     ]
    },
    {
     "name": "stdout",
     "output_type": "stream",
     "text": [
      "🔍 Delhi store MSE: 557.12\n",
      "🔍 Delhi store MSE: 557.12\n",
      "🔍 Delhi store MSE: 557.12\n",
      "🔍 Delhi store MSE: 557.12\n",
      "🔍 Delhi store MSE: 557.12\n",
      "🔍 Delhi store MSE: 557.12\n",
      "🔍 Delhi store MSE: 557.12\n"
     ]
    },
    {
     "name": "stderr",
     "output_type": "stream",
     "text": [
      "\u001b[92mINFO \u001b[0m:      \n",
      "\u001b[92mINFO \u001b[0m:      Received: evaluate message ca3ab74c-3b50-46f2-bfaa-8fa67fedbf2d\n",
      "\u001b[92mINFO \u001b[0m:      Sent reply\n",
      "\u001b[92mINFO \u001b[0m:      \n",
      "\u001b[92mINFO \u001b[0m:      Received: train message d5935724-cf7f-4f3e-9ac1-d133e062bda8\n",
      "\u001b[92mINFO \u001b[0m:      Sent reply\n",
      "\u001b[92mINFO \u001b[0m:      \n",
      "\u001b[92mINFO \u001b[0m:      Received: evaluate message 80f90113-76c1-437a-84c4-414235168016\n",
      "\u001b[92mINFO \u001b[0m:      Sent reply\n",
      "\u001b[92mINFO \u001b[0m:      \n",
      "\u001b[92mINFO \u001b[0m:      Received: train message 9b171013-7267-4044-933e-56178b78f50a\n",
      "\u001b[92mINFO \u001b[0m:      Sent reply\n",
      "\u001b[92mINFO \u001b[0m:      \n",
      "\u001b[92mINFO \u001b[0m:      Received: evaluate message aae16d99-d8c7-47e1-aad8-082607f4fa01\n",
      "\u001b[92mINFO \u001b[0m:      Sent reply\n",
      "\u001b[92mINFO \u001b[0m:      \n",
      "\u001b[92mINFO \u001b[0m:      Received: reconnect message 47180331-7d93-4021-8773-84af94ed3575\n",
      "\u001b[92mINFO \u001b[0m:      Disconnect and shut down\n"
     ]
    },
    {
     "name": "stdout",
     "output_type": "stream",
     "text": [
      "🔍 Delhi store MSE: 557.12\n",
      "🔍 Delhi store MSE: 557.12\n",
      "🔍 Delhi store MSE: 557.12\n"
     ]
    }
   ],
   "source": [
    "# ---- Step 3: Start Client ----\n",
    "if __name__ == \"__main__\":\n",
    "    print(\"🚀 Delhi Client Started (Edge AI + FL)\")\n",
    "    fl.client.start_client(\n",
    "        server_address=\"127.0.0.1:8080\",\n",
    "        client=DelhiClient().to_client()\n",
    "    )"
   ]
  },
  {
   "cell_type": "code",
   "execution_count": null,
   "id": "d2b34408",
   "metadata": {},
   "outputs": [],
   "source": []
  }
 ],
 "metadata": {
  "kernelspec": {
   "display_name": ".venv",
   "language": "python",
   "name": "python3"
  },
  "language_info": {
   "codemirror_mode": {
    "name": "ipython",
    "version": 3
   },
   "file_extension": ".py",
   "mimetype": "text/x-python",
   "name": "python",
   "nbconvert_exporter": "python",
   "pygments_lexer": "ipython3",
   "version": "3.11.8"
  }
 },
 "nbformat": 4,
 "nbformat_minor": 5
}
