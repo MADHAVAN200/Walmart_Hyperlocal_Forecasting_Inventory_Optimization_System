{
 "cells": [
  {
   "cell_type": "code",
   "execution_count": 1,
   "id": "b21a4e25",
   "metadata": {},
   "outputs": [],
   "source": [
    "import flwr as fl\n",
    "import pandas as pd\n",
    "import numpy as np\n",
    "from sklearn.ensemble import RandomForestRegressor\n",
    "from sklearn.metrics import mean_squared_error\n",
    "from sklearn.model_selection import train_test_split\n",
    "import warnings\n",
    "warnings.filterwarnings(\"ignore\")"
   ]
  },
  {
   "cell_type": "code",
   "execution_count": 17,
   "id": "378e5306",
   "metadata": {},
   "outputs": [],
   "source": [
    "def load_mumbai_data():\n",
    "    df = pd.read_csv(\"C:\\\\Users\\\\madha\\\\Downloads\\\\Walmart\\\\Data\\\\mumbai_data.csv\")\n",
    "    X = df.drop(\"demand\", axis=1)\n",
    "    y = df[\"demand\"]\n",
    "    return train_test_split(X, y, test_size=0.2, random_state=42)"
   ]
  },
  {
   "cell_type": "code",
   "execution_count": 18,
   "id": "3583fafc",
   "metadata": {},
   "outputs": [],
   "source": [
    "class MumbaiClient(fl.client.NumPyClient):\n",
    "    def __init__(self):\n",
    "        self.X_train, self.X_test, self.y_train, self.y_test = load_mumbai_data()\n",
    "        self.model = RandomForestRegressor(n_estimators=10, random_state=42)\n",
    "        self.model.fit(self.X_train, self.y_train)\n",
    "       \n",
    "        \n",
    "    def get_parameters(self, config=None):\n",
    "        # RandomForest doesn't have simple numpy-based weights like neural nets.\n",
    "        # But Flower requires this method; we'll return dummy data (not used in FL here).\n",
    "        return []\n",
    "    \n",
    "    \n",
    "    def fit(self, parameters, config=None):\n",
    "        # Re-train local model\n",
    "        self.model.fit(self.X_train, self.y_train)\n",
    "        return self.get_parameters(), len(self.X_train), {}\n",
    "    \n",
    "    \n",
    "    def evaluate(self, parameters, config=None):\n",
    "        preds = self.model.predict(self.X_test)\n",
    "        mse = mean_squared_error(self.y_test, preds)\n",
    "        print(f\"🔍 Mumbai store MSE: {mse:.2f}\")\n",
    "        return float(mse), len(self.X_test), {}"
   ]
  },
  {
   "cell_type": "code",
   "execution_count": 23,
   "id": "f705a880",
   "metadata": {},
   "outputs": [
    {
     "name": "stderr",
     "output_type": "stream",
     "text": [
      "\u001b[93mWARNING \u001b[0m:   DEPRECATED FEATURE: flwr.client.start_numpy_client() is deprecated. \n",
      "\tInstead, use `flwr.client.start_client()` by ensuring you first call the `.to_client()` method as shown below: \n",
      "\tflwr.client.start_client(\n",
      "\t\tserver_address='<IP>:<PORT>',\n",
      "\t\tclient=FlowerClient().to_client(), # <-- where FlowerClient is of type flwr.client.NumPyClient object\n",
      "\t)\n",
      "\tUsing `start_numpy_client()` is deprecated.\n",
      "\n",
      "            This is a deprecated feature. It will be removed\n",
      "            entirely in future versions of Flower.\n",
      "        \n",
      "\u001b[93mWARNING \u001b[0m:   DEPRECATED FEATURE: flwr.client.start_client() is deprecated.\n",
      "\tInstead, use the `flower-supernode` CLI command to start a SuperNode as shown below:\n",
      "\n",
      "\t\t$ flower-supernode --insecure --superlink='<IP>:<PORT>'\n",
      "\n",
      "\tTo view all available options, run:\n",
      "\n",
      "\t\t$ flower-supernode --help\n",
      "\n",
      "\tUsing `start_client()` is deprecated.\n",
      "\n",
      "            This is a deprecated feature. It will be removed\n",
      "            entirely in future versions of Flower.\n",
      "        \n"
     ]
    },
    {
     "name": "stderr",
     "output_type": "stream",
     "text": [
      "\u001b[92mINFO \u001b[0m:      \n",
      "\u001b[92mINFO \u001b[0m:      Received: get_parameters message 689c5a21-e497-4476-9f19-5ab3ad934dd1\n",
      "\u001b[92mINFO \u001b[0m:      Sent reply\n"
     ]
    },
    {
     "name": "stdout",
     "output_type": "stream",
     "text": [
      "🚀 Mumbai Client Started (Edge AI + FL)\n"
     ]
    },
    {
     "name": "stderr",
     "output_type": "stream",
     "text": [
      "\u001b[92mINFO \u001b[0m:      \n",
      "\u001b[92mINFO \u001b[0m:      Received: train message a51a6770-1632-45f4-861e-3a5ecb74fc38\n",
      "\u001b[92mINFO \u001b[0m:      Sent reply\n",
      "\u001b[92mINFO \u001b[0m:      \n",
      "\u001b[92mINFO \u001b[0m:      Received: evaluate message 16923940-52d6-46c0-a0ae-14ec7d6f2df8\n",
      "\u001b[92mINFO \u001b[0m:      Sent reply\n",
      "\u001b[92mINFO \u001b[0m:      \n",
      "\u001b[92mINFO \u001b[0m:      Received: train message 1fa0762e-535a-4817-b2b7-ede4148ce239\n",
      "\u001b[92mINFO \u001b[0m:      Sent reply\n",
      "\u001b[92mINFO \u001b[0m:      \n",
      "\u001b[92mINFO \u001b[0m:      Received: evaluate message 46a97cdc-fe2b-486b-9aab-0b00ea2c7148\n",
      "\u001b[92mINFO \u001b[0m:      Sent reply\n",
      "\u001b[92mINFO \u001b[0m:      \n",
      "\u001b[92mINFO \u001b[0m:      Received: train message fd344be9-3de5-4550-91d6-b25b62786a0c\n",
      "\u001b[92mINFO \u001b[0m:      Sent reply\n",
      "\u001b[92mINFO \u001b[0m:      \n",
      "\u001b[92mINFO \u001b[0m:      Received: evaluate message 4c06354e-00a8-498d-beac-a04aa4e82c00\n",
      "\u001b[92mINFO \u001b[0m:      Sent reply\n",
      "\u001b[92mINFO \u001b[0m:      \n",
      "\u001b[92mINFO \u001b[0m:      Received: train message 6a39b6f4-ec6d-4e0a-b81b-1d41384a987c\n",
      "\u001b[92mINFO \u001b[0m:      Sent reply\n",
      "\u001b[92mINFO \u001b[0m:      \n",
      "\u001b[92mINFO \u001b[0m:      Received: evaluate message 910e88f4-8272-467a-a0c9-a0abc3d7f90f\n",
      "\u001b[92mINFO \u001b[0m:      Sent reply\n",
      "\u001b[92mINFO \u001b[0m:      \n",
      "\u001b[92mINFO \u001b[0m:      Received: train message 65c98786-cbce-48e2-a33e-38ade50cb175\n",
      "\u001b[92mINFO \u001b[0m:      Sent reply\n",
      "\u001b[92mINFO \u001b[0m:      \n",
      "\u001b[92mINFO \u001b[0m:      Received: evaluate message e66f2f66-1bde-4906-99ca-6627113d6ad2\n",
      "\u001b[92mINFO \u001b[0m:      Sent reply\n",
      "\u001b[92mINFO \u001b[0m:      \n",
      "\u001b[92mINFO \u001b[0m:      Received: train message 7bee6181-1567-4396-8fee-7144f24caf90\n",
      "\u001b[92mINFO \u001b[0m:      Sent reply\n",
      "\u001b[92mINFO \u001b[0m:      \n",
      "\u001b[92mINFO \u001b[0m:      Received: evaluate message 27ec8934-0779-4176-bc40-2699c974dd93\n",
      "\u001b[92mINFO \u001b[0m:      Sent reply\n",
      "\u001b[92mINFO \u001b[0m:      \n",
      "\u001b[92mINFO \u001b[0m:      Received: train message c79f05f8-a4ae-4b84-bcd4-de4e3f0a9eba\n",
      "\u001b[92mINFO \u001b[0m:      Sent reply\n",
      "\u001b[92mINFO \u001b[0m:      \n",
      "\u001b[92mINFO \u001b[0m:      Received: evaluate message 63dd8378-4c01-4a65-a182-013c07e57288\n",
      "\u001b[92mINFO \u001b[0m:      Sent reply\n",
      "\u001b[92mINFO \u001b[0m:      \n",
      "\u001b[92mINFO \u001b[0m:      Received: train message e1549a35-1774-4d45-86af-eed2bbc19bb7\n"
     ]
    },
    {
     "name": "stdout",
     "output_type": "stream",
     "text": [
      "🔍 Mumbai store MSE: 104.00\n",
      "🔍 Mumbai store MSE: 104.00\n",
      "🔍 Mumbai store MSE: 104.00\n",
      "🔍 Mumbai store MSE: 104.00\n",
      "🔍 Mumbai store MSE: 104.00\n",
      "🔍 Mumbai store MSE: 104.00\n",
      "🔍 Mumbai store MSE: 104.00\n"
     ]
    },
    {
     "name": "stderr",
     "output_type": "stream",
     "text": [
      "\u001b[92mINFO \u001b[0m:      Sent reply\n",
      "\u001b[92mINFO \u001b[0m:      \n",
      "\u001b[92mINFO \u001b[0m:      Received: evaluate message 83aa4cee-ea2b-4592-af1b-97b70b4b4fac\n",
      "\u001b[92mINFO \u001b[0m:      Sent reply\n",
      "\u001b[92mINFO \u001b[0m:      \n",
      "\u001b[92mINFO \u001b[0m:      Received: train message e3d0fab1-6813-48dc-a697-5c1573f4e2c6\n",
      "\u001b[92mINFO \u001b[0m:      Sent reply\n",
      "\u001b[92mINFO \u001b[0m:      \n",
      "\u001b[92mINFO \u001b[0m:      Received: evaluate message fdd650df-8d14-49e8-b5b8-455558932d17\n",
      "\u001b[92mINFO \u001b[0m:      Sent reply\n",
      "\u001b[92mINFO \u001b[0m:      \n",
      "\u001b[92mINFO \u001b[0m:      Received: train message 5db17b98-25b6-4cef-a8db-08db0593e7f8\n",
      "\u001b[92mINFO \u001b[0m:      Sent reply\n",
      "\u001b[92mINFO \u001b[0m:      \n",
      "\u001b[92mINFO \u001b[0m:      Received: evaluate message 2a2b257b-6103-45f6-ad9e-468e26175289\n",
      "\u001b[92mINFO \u001b[0m:      Sent reply\n",
      "\u001b[92mINFO \u001b[0m:      \n",
      "\u001b[92mINFO \u001b[0m:      Received: reconnect message d0b6a146-176f-4780-9fb6-b9aba7b7e71f\n",
      "\u001b[92mINFO \u001b[0m:      Disconnect and shut down\n"
     ]
    },
    {
     "name": "stdout",
     "output_type": "stream",
     "text": [
      "🔍 Mumbai store MSE: 104.00\n",
      "🔍 Mumbai store MSE: 104.00\n",
      "🔍 Mumbai store MSE: 104.00\n"
     ]
    }
   ],
   "source": [
    "if __name__ == \"__main__\":\n",
    "    print(\"🚀 Mumbai Client Started (Edge AI + FL)\")\n",
    "    fl.client.start_numpy_client(server_address=\"127.0.0.1:8080\", client=MumbaiClient())"
   ]
  },
  {
   "cell_type": "markdown",
   "id": "bdd17b46",
   "metadata": {},
   "source": []
  },
  {
   "cell_type": "code",
   "execution_count": null,
   "id": "2f736b9c",
   "metadata": {},
   "outputs": [],
   "source": []
  }
 ],
 "metadata": {
  "kernelspec": {
   "display_name": ".venv",
   "language": "python",
   "name": "python3"
  },
  "language_info": {
   "codemirror_mode": {
    "name": "ipython",
    "version": 3
   },
   "file_extension": ".py",
   "mimetype": "text/x-python",
   "name": "python",
   "nbconvert_exporter": "python",
   "pygments_lexer": "ipython3",
   "version": "3.11.8"
  }
 },
 "nbformat": 4,
 "nbformat_minor": 5
}
